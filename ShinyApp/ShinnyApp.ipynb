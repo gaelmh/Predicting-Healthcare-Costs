{
  "nbformat": 4,
  "nbformat_minor": 0,
  "metadata": {
    "colab": {
      "provenance": [],
      "gpuType": "A100",
      "machine_shape": "hm"
    },
    "kernelspec": {
      "name": "python3",
      "display_name": "Python 3"
    },
    "language_info": {
      "name": "python"
    },
    "accelerator": "GPU"
  },
  "cells": [
    {
      "cell_type": "markdown",
      "source": [
        "# **User Interface to Predict Healthcare Costs**"
      ],
      "metadata": {
        "id": "3wEk5k1E_9WA"
      }
    },
    {
      "cell_type": "markdown",
      "source": [
        "Import and Load Libraries"
      ],
      "metadata": {
        "id": "RWPITJI4AFWd"
      }
    },
    {
      "cell_type": "code",
      "source": [
        "import json\n",
        "import joblib\n",
        "import pandas as pd\n",
        "import torch\n",
        "import numpy as np\n",
        "!pip install shiny\n",
        "from shiny import App, ui, render, reactive\n",
        "import xgboost as xgb\n",
        "from scipy.sparse import csr_matrix, hstack\n",
        "import os\n",
        "!pip install scikit-learn==1.5.2\n",
        "!pip install scikit-learn==1.6.1\n",
        "!pip install --upgrade pip\n",
        "!pip install cudf-cu12 cuml-cu12 --extra-index-url=https://pypi.nvidia.com\n",
        "\n",
        "# Configure GPU for XGBoost\n",
        "os.environ[\"CUDA_VISIBLE_DEVICES\"] = \"0\"  # Use first GPU\n",
        "print(\"XGBoost will use GPU for predictions\")"
      ],
      "metadata": {
        "colab": {
          "base_uri": "https://localhost:8080/"
        },
        "id": "6k4YwU7qpZa0",
        "outputId": "c253b3e0-d06d-4454-b5a7-7031a78d958a"
      },
      "execution_count": 1,
      "outputs": [
        {
          "output_type": "stream",
          "name": "stdout",
          "text": [
            "Collecting shiny\n",
            "  Downloading shiny-1.3.0-py3-none-any.whl.metadata (9.2 kB)\n",
            "Requirement already satisfied: typing-extensions>=4.10.0 in /usr/local/lib/python3.11/dist-packages (from shiny) (4.12.2)\n",
            "Collecting uvicorn>=0.16.0 (from shiny)\n",
            "  Downloading uvicorn-0.34.0-py3-none-any.whl.metadata (6.5 kB)\n",
            "Collecting starlette (from shiny)\n",
            "  Downloading starlette-0.46.1-py3-none-any.whl.metadata (6.2 kB)\n",
            "Requirement already satisfied: websockets>=13.0 in /usr/local/lib/python3.11/dist-packages (from shiny) (14.2)\n",
            "Collecting htmltools>=0.6.0 (from shiny)\n",
            "  Downloading htmltools-0.6.0-py3-none-any.whl.metadata (3.3 kB)\n",
            "Requirement already satisfied: click>=8.1.4 in /usr/local/lib/python3.11/dist-packages (from shiny) (8.1.8)\n",
            "Requirement already satisfied: markdown-it-py>=1.1.0 in /usr/local/lib/python3.11/dist-packages (from shiny) (3.0.0)\n",
            "Requirement already satisfied: mdit-py-plugins>=0.3.0 in /usr/local/lib/python3.11/dist-packages (from shiny) (0.4.2)\n",
            "Requirement already satisfied: linkify-it-py>=1.0 in /usr/local/lib/python3.11/dist-packages (from shiny) (2.0.3)\n",
            "Collecting appdirs>=1.4.4 (from shiny)\n",
            "  Downloading appdirs-1.4.4-py2.py3-none-any.whl.metadata (9.0 kB)\n",
            "Collecting asgiref>=3.5.2 (from shiny)\n",
            "  Downloading asgiref-3.8.1-py3-none-any.whl.metadata (9.3 kB)\n",
            "Requirement already satisfied: packaging>=20.9 in /usr/local/lib/python3.11/dist-packages (from shiny) (24.2)\n",
            "Collecting watchfiles>=0.18.0 (from shiny)\n",
            "  Downloading watchfiles-1.0.4-cp311-cp311-manylinux_2_17_x86_64.manylinux2014_x86_64.whl.metadata (4.9 kB)\n",
            "Collecting questionary>=2.0.0 (from shiny)\n",
            "  Downloading questionary-2.1.0-py3-none-any.whl.metadata (5.4 kB)\n",
            "Requirement already satisfied: prompt-toolkit in /usr/local/lib/python3.11/dist-packages (from shiny) (3.0.50)\n",
            "Collecting python-multipart>=0.0.7 (from shiny)\n",
            "  Downloading python_multipart-0.0.20-py3-none-any.whl.metadata (1.8 kB)\n",
            "Requirement already satisfied: narwhals>=1.10.0 in /usr/local/lib/python3.11/dist-packages (from shiny) (1.29.0)\n",
            "Requirement already satisfied: orjson>=3.10.7 in /usr/local/lib/python3.11/dist-packages (from shiny) (3.10.15)\n",
            "Requirement already satisfied: uc-micro-py in /usr/local/lib/python3.11/dist-packages (from linkify-it-py>=1.0->shiny) (1.0.3)\n",
            "Requirement already satisfied: mdurl~=0.1 in /usr/local/lib/python3.11/dist-packages (from markdown-it-py>=1.1.0->shiny) (0.1.2)\n",
            "Requirement already satisfied: wcwidth in /usr/local/lib/python3.11/dist-packages (from prompt-toolkit->shiny) (0.2.13)\n",
            "Requirement already satisfied: h11>=0.8 in /usr/local/lib/python3.11/dist-packages (from uvicorn>=0.16.0->shiny) (0.14.0)\n",
            "Requirement already satisfied: anyio>=3.0.0 in /usr/local/lib/python3.11/dist-packages (from watchfiles>=0.18.0->shiny) (3.7.1)\n",
            "Requirement already satisfied: idna>=2.8 in /usr/local/lib/python3.11/dist-packages (from anyio>=3.0.0->watchfiles>=0.18.0->shiny) (3.10)\n",
            "Requirement already satisfied: sniffio>=1.1 in /usr/local/lib/python3.11/dist-packages (from anyio>=3.0.0->watchfiles>=0.18.0->shiny) (1.3.1)\n",
            "Downloading shiny-1.3.0-py3-none-any.whl (3.8 MB)\n",
            "\u001b[2K   \u001b[90m━━━━━━━━━━━━━━━━━━━━━━━━━━━━━━━━━━━━━━━━\u001b[0m \u001b[32m3.8/3.8 MB\u001b[0m \u001b[31m41.0 MB/s\u001b[0m eta \u001b[36m0:00:00\u001b[0m\n",
            "\u001b[?25hDownloading appdirs-1.4.4-py2.py3-none-any.whl (9.6 kB)\n",
            "Downloading asgiref-3.8.1-py3-none-any.whl (23 kB)\n",
            "Downloading htmltools-0.6.0-py3-none-any.whl (84 kB)\n",
            "\u001b[2K   \u001b[90m━━━━━━━━━━━━━━━━━━━━━━━━━━━━━━━━━━━━━━━━\u001b[0m \u001b[32m85.0/85.0 kB\u001b[0m \u001b[31m5.6 MB/s\u001b[0m eta \u001b[36m0:00:00\u001b[0m\n",
            "\u001b[?25hDownloading python_multipart-0.0.20-py3-none-any.whl (24 kB)\n",
            "Downloading questionary-2.1.0-py3-none-any.whl (36 kB)\n",
            "Downloading uvicorn-0.34.0-py3-none-any.whl (62 kB)\n",
            "\u001b[2K   \u001b[90m━━━━━━━━━━━━━━━━━━━━━━━━━━━━━━━━━━━━━━━━\u001b[0m \u001b[32m62.3/62.3 kB\u001b[0m \u001b[31m4.8 MB/s\u001b[0m eta \u001b[36m0:00:00\u001b[0m\n",
            "\u001b[?25hDownloading watchfiles-1.0.4-cp311-cp311-manylinux_2_17_x86_64.manylinux2014_x86_64.whl (452 kB)\n",
            "\u001b[2K   \u001b[90m━━━━━━━━━━━━━━━━━━━━━━━━━━━━━━━━━━━━━━━━\u001b[0m \u001b[32m452.6/452.6 kB\u001b[0m \u001b[31m33.8 MB/s\u001b[0m eta \u001b[36m0:00:00\u001b[0m\n",
            "\u001b[?25hDownloading starlette-0.46.1-py3-none-any.whl (71 kB)\n",
            "\u001b[2K   \u001b[90m━━━━━━━━━━━━━━━━━━━━━━━━━━━━━━━━━━━━━━━━\u001b[0m \u001b[32m72.0/72.0 kB\u001b[0m \u001b[31m6.3 MB/s\u001b[0m eta \u001b[36m0:00:00\u001b[0m\n",
            "\u001b[?25hInstalling collected packages: appdirs, uvicorn, python-multipart, htmltools, asgiref, watchfiles, starlette, questionary, shiny\n",
            "Successfully installed appdirs-1.4.4 asgiref-3.8.1 htmltools-0.6.0 python-multipart-0.0.20 questionary-2.1.0 shiny-1.3.0 starlette-0.46.1 uvicorn-0.34.0 watchfiles-1.0.4\n",
            "Collecting scikit-learn==1.5.2\n",
            "  Downloading scikit_learn-1.5.2-cp311-cp311-manylinux_2_17_x86_64.manylinux2014_x86_64.whl.metadata (13 kB)\n",
            "Requirement already satisfied: numpy>=1.19.5 in /usr/local/lib/python3.11/dist-packages (from scikit-learn==1.5.2) (1.26.4)\n",
            "Requirement already satisfied: scipy>=1.6.0 in /usr/local/lib/python3.11/dist-packages (from scikit-learn==1.5.2) (1.13.1)\n",
            "Requirement already satisfied: joblib>=1.2.0 in /usr/local/lib/python3.11/dist-packages (from scikit-learn==1.5.2) (1.4.2)\n",
            "Requirement already satisfied: threadpoolctl>=3.1.0 in /usr/local/lib/python3.11/dist-packages (from scikit-learn==1.5.2) (3.5.0)\n",
            "Downloading scikit_learn-1.5.2-cp311-cp311-manylinux_2_17_x86_64.manylinux2014_x86_64.whl (13.3 MB)\n",
            "\u001b[2K   \u001b[90m━━━━━━━━━━━━━━━━━━━━━━━━━━━━━━━━━━━━━━━━\u001b[0m \u001b[32m13.3/13.3 MB\u001b[0m \u001b[31m110.6 MB/s\u001b[0m eta \u001b[36m0:00:00\u001b[0m\n",
            "\u001b[?25hInstalling collected packages: scikit-learn\n",
            "  Attempting uninstall: scikit-learn\n",
            "    Found existing installation: scikit-learn 1.6.1\n",
            "    Uninstalling scikit-learn-1.6.1:\n",
            "      Successfully uninstalled scikit-learn-1.6.1\n",
            "Successfully installed scikit-learn-1.5.2\n",
            "Collecting scikit-learn==1.6.1\n",
            "  Downloading scikit_learn-1.6.1-cp311-cp311-manylinux_2_17_x86_64.manylinux2014_x86_64.whl.metadata (18 kB)\n",
            "Requirement already satisfied: numpy>=1.19.5 in /usr/local/lib/python3.11/dist-packages (from scikit-learn==1.6.1) (1.26.4)\n",
            "Requirement already satisfied: scipy>=1.6.0 in /usr/local/lib/python3.11/dist-packages (from scikit-learn==1.6.1) (1.13.1)\n",
            "Requirement already satisfied: joblib>=1.2.0 in /usr/local/lib/python3.11/dist-packages (from scikit-learn==1.6.1) (1.4.2)\n",
            "Requirement already satisfied: threadpoolctl>=3.1.0 in /usr/local/lib/python3.11/dist-packages (from scikit-learn==1.6.1) (3.5.0)\n",
            "Downloading scikit_learn-1.6.1-cp311-cp311-manylinux_2_17_x86_64.manylinux2014_x86_64.whl (13.5 MB)\n",
            "\u001b[2K   \u001b[90m━━━━━━━━━━━━━━━━━━━━━━━━━━━━━━━━━━━━━━━━\u001b[0m \u001b[32m13.5/13.5 MB\u001b[0m \u001b[31m107.6 MB/s\u001b[0m eta \u001b[36m0:00:00\u001b[0m\n",
            "\u001b[?25hInstalling collected packages: scikit-learn\n",
            "  Attempting uninstall: scikit-learn\n",
            "    Found existing installation: scikit-learn 1.5.2\n",
            "    Uninstalling scikit-learn-1.5.2:\n",
            "      Successfully uninstalled scikit-learn-1.5.2\n",
            "Successfully installed scikit-learn-1.6.1\n",
            "Requirement already satisfied: pip in /usr/local/lib/python3.11/dist-packages (24.1.2)\n",
            "Collecting pip\n",
            "  Downloading pip-25.0.1-py3-none-any.whl.metadata (3.7 kB)\n",
            "Downloading pip-25.0.1-py3-none-any.whl (1.8 MB)\n",
            "\u001b[2K   \u001b[90m━━━━━━━━━━━━━━━━━━━━━━━━━━━━━━━━━━━━━━━━\u001b[0m \u001b[32m1.8/1.8 MB\u001b[0m \u001b[31m19.4 MB/s\u001b[0m eta \u001b[36m0:00:00\u001b[0m\n",
            "\u001b[?25hInstalling collected packages: pip\n",
            "  Attempting uninstall: pip\n",
            "    Found existing installation: pip 24.1.2\n",
            "    Uninstalling pip-24.1.2:\n",
            "      Successfully uninstalled pip-24.1.2\n",
            "Successfully installed pip-25.0.1\n",
            "Looking in indexes: https://pypi.org/simple, https://pypi.nvidia.com\n",
            "Requirement already satisfied: cudf-cu12 in /usr/local/lib/python3.11/dist-packages (25.2.1)\n",
            "Requirement already satisfied: cuml-cu12 in /usr/local/lib/python3.11/dist-packages (25.2.1)\n",
            "Requirement already satisfied: cachetools in /usr/local/lib/python3.11/dist-packages (from cudf-cu12) (5.5.2)\n",
            "Requirement already satisfied: cuda-python<13.0a0,>=12.6.2 in /usr/local/lib/python3.11/dist-packages (from cudf-cu12) (12.6.2.post1)\n",
            "Requirement already satisfied: cupy-cuda12x>=12.0.0 in /usr/local/lib/python3.11/dist-packages (from cudf-cu12) (13.3.0)\n",
            "Requirement already satisfied: fsspec>=0.6.0 in /usr/local/lib/python3.11/dist-packages (from cudf-cu12) (2024.10.0)\n",
            "Requirement already satisfied: libcudf-cu12==25.2.* in /usr/local/lib/python3.11/dist-packages (from cudf-cu12) (25.2.1)\n",
            "Requirement already satisfied: numba-cuda<0.3.0a0,>=0.2.0 in /usr/local/lib/python3.11/dist-packages (from cudf-cu12) (0.2.0)\n",
            "Requirement already satisfied: numba<0.61.0a0,>=0.59.1 in /usr/local/lib/python3.11/dist-packages (from cudf-cu12) (0.60.0)\n",
            "Requirement already satisfied: numpy<3.0a0,>=1.23 in /usr/local/lib/python3.11/dist-packages (from cudf-cu12) (1.26.4)\n",
            "Requirement already satisfied: nvtx>=0.2.1 in /usr/local/lib/python3.11/dist-packages (from cudf-cu12) (0.2.11)\n",
            "Requirement already satisfied: packaging in /usr/local/lib/python3.11/dist-packages (from cudf-cu12) (24.2)\n",
            "Requirement already satisfied: pandas<2.2.4dev0,>=2.0 in /usr/local/lib/python3.11/dist-packages (from cudf-cu12) (2.2.2)\n",
            "Requirement already satisfied: pyarrow<20.0.0a0,>=14.0.0 in /usr/local/lib/python3.11/dist-packages (from cudf-cu12) (18.1.0)\n",
            "Requirement already satisfied: pylibcudf-cu12==25.2.* in /usr/local/lib/python3.11/dist-packages (from cudf-cu12) (25.2.1)\n",
            "Requirement already satisfied: pynvjitlink-cu12 in /usr/local/lib/python3.11/dist-packages (from cudf-cu12) (0.5.0)\n",
            "Requirement already satisfied: rich in /usr/local/lib/python3.11/dist-packages (from cudf-cu12) (13.9.4)\n",
            "Requirement already satisfied: rmm-cu12==25.2.* in /usr/local/lib/python3.11/dist-packages (from cudf-cu12) (25.2.0)\n",
            "Requirement already satisfied: typing_extensions>=4.0.0 in /usr/local/lib/python3.11/dist-packages (from cudf-cu12) (4.12.2)\n",
            "Requirement already satisfied: libkvikio-cu12==25.2.* in /usr/local/lib/python3.11/dist-packages (from libcudf-cu12==25.2.*->cudf-cu12) (25.2.1)\n",
            "Requirement already satisfied: nvidia-nvcomp-cu12==4.2.0.11 in /usr/local/lib/python3.11/dist-packages (from libcudf-cu12==25.2.*->cudf-cu12) (4.2.0.11)\n",
            "Requirement already satisfied: cuvs-cu12==25.2.* in /usr/local/lib/python3.11/dist-packages (from cuml-cu12) (25.2.1)\n",
            "Requirement already satisfied: dask-cuda==25.2.* in /usr/local/lib/python3.11/dist-packages (from cuml-cu12) (25.2.0)\n",
            "Requirement already satisfied: dask-cudf-cu12==25.2.* in /usr/local/lib/python3.11/dist-packages (from cuml-cu12) (25.2.2)\n",
            "Requirement already satisfied: joblib>=0.11 in /usr/local/lib/python3.11/dist-packages (from cuml-cu12) (1.4.2)\n",
            "Requirement already satisfied: libcuml-cu12==25.2.* in /usr/local/lib/python3.11/dist-packages (from cuml-cu12) (25.2.1)\n",
            "Requirement already satisfied: nvidia-cublas-cu12 in /usr/local/lib/python3.11/dist-packages (from cuml-cu12) (12.5.3.2)\n",
            "Requirement already satisfied: nvidia-cufft-cu12 in /usr/local/lib/python3.11/dist-packages (from cuml-cu12) (11.2.3.61)\n",
            "Requirement already satisfied: nvidia-curand-cu12 in /usr/local/lib/python3.11/dist-packages (from cuml-cu12) (10.3.6.82)\n",
            "Requirement already satisfied: nvidia-cusolver-cu12 in /usr/local/lib/python3.11/dist-packages (from cuml-cu12) (11.6.3.83)\n",
            "Requirement already satisfied: nvidia-cusparse-cu12 in /usr/local/lib/python3.11/dist-packages (from cuml-cu12) (12.5.1.3)\n",
            "Requirement already satisfied: pylibraft-cu12==25.2.* in /usr/local/lib/python3.11/dist-packages (from cuml-cu12) (25.2.0)\n",
            "Requirement already satisfied: raft-dask-cu12==25.2.* in /usr/local/lib/python3.11/dist-packages (from cuml-cu12) (25.2.0)\n",
            "Requirement already satisfied: rapids-dask-dependency==25.2.* in /usr/local/lib/python3.11/dist-packages (from cuml-cu12) (25.2.0)\n",
            "Requirement already satisfied: scipy>=1.8.0 in /usr/local/lib/python3.11/dist-packages (from cuml-cu12) (1.13.1)\n",
            "Requirement already satisfied: treelite==4.4.1 in /usr/local/lib/python3.11/dist-packages (from cuml-cu12) (4.4.1)\n",
            "Requirement already satisfied: libcuvs-cu12==25.2.* in /usr/local/lib/python3.11/dist-packages (from cuvs-cu12==25.2.*->cuml-cu12) (25.2.1)\n",
            "Requirement already satisfied: click>=8.1 in /usr/local/lib/python3.11/dist-packages (from dask-cuda==25.2.*->cuml-cu12) (8.1.8)\n",
            "Requirement already satisfied: pynvml<13.0.0a0,>=12.0.0 in /usr/local/lib/python3.11/dist-packages (from dask-cuda==25.2.*->cuml-cu12) (12.0.0)\n",
            "Requirement already satisfied: zict>=2.0.0 in /usr/local/lib/python3.11/dist-packages (from dask-cuda==25.2.*->cuml-cu12) (3.0.0)\n",
            "Requirement already satisfied: libraft-cu12==25.2.* in /usr/local/lib/python3.11/dist-packages (from libcuml-cu12==25.2.*->cuml-cu12) (25.2.0)\n",
            "Requirement already satisfied: distributed-ucxx-cu12==0.42.* in /usr/local/lib/python3.11/dist-packages (from raft-dask-cu12==25.2.*->cuml-cu12) (0.42.0)\n",
            "Requirement already satisfied: ucx-py-cu12==0.42.* in /usr/local/lib/python3.11/dist-packages (from raft-dask-cu12==25.2.*->cuml-cu12) (0.42.0)\n",
            "Requirement already satisfied: dask==2024.12.1 in /usr/local/lib/python3.11/dist-packages (from rapids-dask-dependency==25.2.*->cuml-cu12) (2024.12.1)\n",
            "Requirement already satisfied: distributed==2024.12.1 in /usr/local/lib/python3.11/dist-packages (from rapids-dask-dependency==25.2.*->cuml-cu12) (2024.12.1)\n",
            "Requirement already satisfied: dask-expr==1.1.21 in /usr/local/lib/python3.11/dist-packages (from rapids-dask-dependency==25.2.*->cuml-cu12) (1.1.21)\n",
            "Requirement already satisfied: cloudpickle>=3.0.0 in /usr/local/lib/python3.11/dist-packages (from dask==2024.12.1->rapids-dask-dependency==25.2.*->cuml-cu12) (3.1.1)\n",
            "Requirement already satisfied: partd>=1.4.0 in /usr/local/lib/python3.11/dist-packages (from dask==2024.12.1->rapids-dask-dependency==25.2.*->cuml-cu12) (1.4.2)\n",
            "Requirement already satisfied: pyyaml>=5.3.1 in /usr/local/lib/python3.11/dist-packages (from dask==2024.12.1->rapids-dask-dependency==25.2.*->cuml-cu12) (6.0.2)\n",
            "Requirement already satisfied: toolz>=0.10.0 in /usr/local/lib/python3.11/dist-packages (from dask==2024.12.1->rapids-dask-dependency==25.2.*->cuml-cu12) (0.12.1)\n",
            "Requirement already satisfied: importlib_metadata>=4.13.0 in /usr/local/lib/python3.11/dist-packages (from dask==2024.12.1->rapids-dask-dependency==25.2.*->cuml-cu12) (8.6.1)\n",
            "Requirement already satisfied: jinja2>=2.10.3 in /usr/local/lib/python3.11/dist-packages (from distributed==2024.12.1->rapids-dask-dependency==25.2.*->cuml-cu12) (3.1.5)\n",
            "Requirement already satisfied: locket>=1.0.0 in /usr/local/lib/python3.11/dist-packages (from distributed==2024.12.1->rapids-dask-dependency==25.2.*->cuml-cu12) (1.0.0)\n",
            "Requirement already satisfied: msgpack>=1.0.2 in /usr/local/lib/python3.11/dist-packages (from distributed==2024.12.1->rapids-dask-dependency==25.2.*->cuml-cu12) (1.1.0)\n",
            "Requirement already satisfied: psutil>=5.8.0 in /usr/local/lib/python3.11/dist-packages (from distributed==2024.12.1->rapids-dask-dependency==25.2.*->cuml-cu12) (5.9.5)\n",
            "Requirement already satisfied: sortedcontainers>=2.0.5 in /usr/local/lib/python3.11/dist-packages (from distributed==2024.12.1->rapids-dask-dependency==25.2.*->cuml-cu12) (2.4.0)\n",
            "Requirement already satisfied: tblib>=1.6.0 in /usr/local/lib/python3.11/dist-packages (from distributed==2024.12.1->rapids-dask-dependency==25.2.*->cuml-cu12) (3.0.0)\n",
            "Requirement already satisfied: tornado>=6.2.0 in /usr/local/lib/python3.11/dist-packages (from distributed==2024.12.1->rapids-dask-dependency==25.2.*->cuml-cu12) (6.4.2)\n",
            "Requirement already satisfied: urllib3>=1.26.5 in /usr/local/lib/python3.11/dist-packages (from distributed==2024.12.1->rapids-dask-dependency==25.2.*->cuml-cu12) (2.3.0)\n",
            "Requirement already satisfied: ucxx-cu12==0.42.* in /usr/local/lib/python3.11/dist-packages (from distributed-ucxx-cu12==0.42.*->raft-dask-cu12==25.2.*->cuml-cu12) (0.42.0)\n",
            "Requirement already satisfied: libucx-cu12<1.19,>=1.15.0 in /usr/local/lib/python3.11/dist-packages (from ucx-py-cu12==0.42.*->raft-dask-cu12==25.2.*->cuml-cu12) (1.18.0)\n",
            "Requirement already satisfied: libucxx-cu12==0.42.* in /usr/local/lib/python3.11/dist-packages (from ucxx-cu12==0.42.*->distributed-ucxx-cu12==0.42.*->raft-dask-cu12==25.2.*->cuml-cu12) (0.42.0)\n",
            "Requirement already satisfied: fastrlock>=0.5 in /usr/local/lib/python3.11/dist-packages (from cupy-cuda12x>=12.0.0->cudf-cu12) (0.8.3)\n",
            "Requirement already satisfied: llvmlite<0.44,>=0.43.0dev0 in /usr/local/lib/python3.11/dist-packages (from numba<0.61.0a0,>=0.59.1->cudf-cu12) (0.43.0)\n",
            "Requirement already satisfied: python-dateutil>=2.8.2 in /usr/local/lib/python3.11/dist-packages (from pandas<2.2.4dev0,>=2.0->cudf-cu12) (2.8.2)\n",
            "Requirement already satisfied: pytz>=2020.1 in /usr/local/lib/python3.11/dist-packages (from pandas<2.2.4dev0,>=2.0->cudf-cu12) (2025.1)\n",
            "Requirement already satisfied: tzdata>=2022.7 in /usr/local/lib/python3.11/dist-packages (from pandas<2.2.4dev0,>=2.0->cudf-cu12) (2025.1)\n",
            "Requirement already satisfied: nvidia-nvjitlink-cu12 in /usr/local/lib/python3.11/dist-packages (from nvidia-cufft-cu12->cuml-cu12) (12.5.82)\n",
            "Requirement already satisfied: markdown-it-py>=2.2.0 in /usr/local/lib/python3.11/dist-packages (from rich->cudf-cu12) (3.0.0)\n",
            "Requirement already satisfied: pygments<3.0.0,>=2.13.0 in /usr/local/lib/python3.11/dist-packages (from rich->cudf-cu12) (2.18.0)\n",
            "Requirement already satisfied: mdurl~=0.1 in /usr/local/lib/python3.11/dist-packages (from markdown-it-py>=2.2.0->rich->cudf-cu12) (0.1.2)\n",
            "Requirement already satisfied: nvidia-ml-py<13.0.0a0,>=12.0.0 in /usr/local/lib/python3.11/dist-packages (from pynvml<13.0.0a0,>=12.0.0->dask-cuda==25.2.*->cuml-cu12) (12.570.86)\n",
            "Requirement already satisfied: six>=1.5 in /usr/local/lib/python3.11/dist-packages (from python-dateutil>=2.8.2->pandas<2.2.4dev0,>=2.0->cudf-cu12) (1.17.0)\n",
            "Requirement already satisfied: zipp>=3.20 in /usr/local/lib/python3.11/dist-packages (from importlib_metadata>=4.13.0->dask==2024.12.1->rapids-dask-dependency==25.2.*->cuml-cu12) (3.21.0)\n",
            "Requirement already satisfied: MarkupSafe>=2.0 in /usr/local/lib/python3.11/dist-packages (from jinja2>=2.10.3->distributed==2024.12.1->rapids-dask-dependency==25.2.*->cuml-cu12) (3.0.2)\n",
            "XGBoost will use GPU for predictions\n"
          ]
        }
      ]
    },
    {
      "cell_type": "markdown",
      "source": [
        "Mount Google Drive"
      ],
      "metadata": {
        "id": "LNesGzs5AH8m"
      }
    },
    {
      "cell_type": "code",
      "source": [
        "from google.colab import drive\n",
        "drive.mount('/content/drive')"
      ],
      "metadata": {
        "colab": {
          "base_uri": "https://localhost:8080/"
        },
        "id": "w95t_9VB4yvL",
        "outputId": "cf3cf38c-ded4-45a2-f7ee-86ba73f7657e"
      },
      "execution_count": 2,
      "outputs": [
        {
          "output_type": "stream",
          "name": "stdout",
          "text": [
            "Mounted at /content/drive\n"
          ]
        }
      ]
    },
    {
      "cell_type": "markdown",
      "source": [
        "Import Files"
      ],
      "metadata": {
        "id": "rR4iYUCcAKaA"
      }
    },
    {
      "cell_type": "code",
      "source": [
        "# Base path\n",
        "base_path = \"/content/drive/My Drive/Capstone Project/\""
      ],
      "metadata": {
        "id": "yFRZC4bD4zuL"
      },
      "execution_count": 3,
      "outputs": []
    },
    {
      "cell_type": "code",
      "source": [
        "# Load unique values for dropdowns\n",
        "with open(os.path.join(base_path, \"Data/Mappings/unique_values.json\"), \"r\") as f:\n",
        "    unique_values = json.load(f)"
      ],
      "metadata": {
        "id": "uXRG7TVopZ2B"
      },
      "execution_count": 4,
      "outputs": []
    },
    {
      "cell_type": "code",
      "source": [
        "# Load mappings\n",
        "with open(os.path.join(base_path, \"Data/Mappings/age_mapping.json\"), \"r\") as f:\n",
        "    age_mapping = json.load(f)\n",
        "# age_mapping_reverse = {v: k for k, v in age_mapping.items()}\n",
        "\n",
        "with open(os.path.join(base_path, \"Data/Mappings/risk_severity_mapping.json\"), \"r\") as f:\n",
        "    risk_severity_mapping = json.load(f)\n",
        "risk_severity_mapping_reverse = {v: k for k, v in risk_severity_mapping.items()}\n",
        "\n",
        "with open(os.path.join(base_path, \"Data/Mappings/facility_mapping.json\"), \"r\") as f:\n",
        "    facility_mapping = json.load(f)\n",
        "\n",
        "with open(os.path.join(base_path, \"Data/Mappings/illness_mapping.json\"), \"r\") as f:\n",
        "    illness_mapping = json.load(f)"
      ],
      "metadata": {
        "id": "yqn6lvQ2hqsw"
      },
      "execution_count": 5,
      "outputs": []
    },
    {
      "cell_type": "code",
      "source": [
        "# Load categorical and ordinal columns from text files\n",
        "with open(os.path.join(base_path, \"Data/Features/categorical_columns.json\"), \"r\") as f:\n",
        "    cols_to_encode = json.load(f)\n",
        "\n",
        "with open(os.path.join(base_path, \"Data/Features/ordinal_columns.json\"), \"r\") as f:\n",
        "    cols_to_scale = json.load(f)"
      ],
      "metadata": {
        "id": "hSm_c8xsF5MF"
      },
      "execution_count": 6,
      "outputs": []
    },
    {
      "cell_type": "code",
      "source": [
        "# Define local feature mapping for UI to know which fields to collect\n",
        "feature_ids = {}\n",
        "for feature in cols_to_encode + cols_to_scale:\n",
        "    feature_ids[feature] = feature.replace(' ', '_').replace('-', '_')"
      ],
      "metadata": {
        "id": "WyKkxiB0YZLI"
      },
      "execution_count": 7,
      "outputs": []
    },
    {
      "cell_type": "code",
      "source": [
        "# Load preprocessing tools\n",
        "encoder = joblib.load(os.path.join(base_path, \"Data/Preprocessing Components/encoder.joblib\"))\n",
        "scaler = joblib.load(os.path.join(base_path, \"Data/Preprocessing Components/scaler.joblib\"))\n",
        "svd = joblib.load(os.path.join(base_path, \"Data/Preprocessing Components/svd.joblib\"))"
      ],
      "metadata": {
        "id": "WOpo4TSJF8HX",
        "colab": {
          "base_uri": "https://localhost:8080/"
        },
        "outputId": "9fd30fcb-f089-40ca-c746-ab69c7cf5660"
      },
      "execution_count": 8,
      "outputs": [
        {
          "output_type": "stream",
          "name": "stderr",
          "text": [
            "/usr/local/lib/python3.11/dist-packages/sklearn/base.py:380: InconsistentVersionWarning: Trying to unpickle estimator OneHotEncoder from version 1.5.2 when using version 1.6.1. This might lead to breaking code or invalid results. Use at your own risk. For more info please refer to:\n",
            "https://scikit-learn.org/stable/model_persistence.html#security-maintainability-limitations\n",
            "  warnings.warn(\n",
            "/usr/local/lib/python3.11/dist-packages/sklearn/base.py:380: InconsistentVersionWarning: Trying to unpickle estimator StandardScaler from version 1.5.2 when using version 1.6.1. This might lead to breaking code or invalid results. Use at your own risk. For more info please refer to:\n",
            "https://scikit-learn.org/stable/model_persistence.html#security-maintainability-limitations\n",
            "  warnings.warn(\n",
            "/usr/local/lib/python3.11/dist-packages/sklearn/base.py:380: InconsistentVersionWarning: Trying to unpickle estimator TruncatedSVD from version 1.5.2 when using version 1.6.1. This might lead to breaking code or invalid results. Use at your own risk. For more info please refer to:\n",
            "https://scikit-learn.org/stable/model_persistence.html#security-maintainability-limitations\n",
            "  warnings.warn(\n"
          ]
        }
      ]
    },
    {
      "cell_type": "code",
      "source": [
        "# Load scaling information for Total Charges\n",
        "total_charges_idx = cols_to_scale.index(\"Total Charges\")\n",
        "total_charges_mean = scaler.mean_[total_charges_idx]\n",
        "total_charges_scale = scaler.scale_[total_charges_idx]"
      ],
      "metadata": {
        "id": "fkE5bdekkYhL"
      },
      "execution_count": 9,
      "outputs": []
    },
    {
      "cell_type": "code",
      "source": [
        "# Load the model\n",
        "model_path = os.path.join(base_path, \"Code/Models/XGBoost/xgb_model.joblib\")\n",
        "xgb_model = joblib.load(model_path)\n",
        "\n",
        "# Check if we can extract the booster\n",
        "if hasattr(xgb_model, 'get_booster'):\n",
        "    booster = xgb_model.get_booster()\n",
        "else:\n",
        "    booster = xgb_model"
      ],
      "metadata": {
        "id": "CgidS2TKpc6R"
      },
      "execution_count": 10,
      "outputs": []
    },
    {
      "cell_type": "markdown",
      "source": [
        "Define User Interface"
      ],
      "metadata": {
        "id": "VqUHbtzEAeFd"
      }
    },
    {
      "cell_type": "code",
      "source": [
        "app_ui = ui.page_fluid(\n",
        "    ui.h1(\"Healthcare Cost Prediction\"),\n",
        "\n",
        "    ui.row(\n",
        "        ui.column(3,\n",
        "            ui.h3(\"Patient Information\"),\n",
        "            ui.input_select(\"age_group\", \"Age Group\", choices=list(age_mapping.keys())),\n",
        "            ui.input_select(\"gender\", \"Gender\", choices={\"M\": \"Male\", \"F\": \"Female\", \"U\": \"Do Not Wish to Disclose\"}),\n",
        "            ui.input_select(\"race\", \"Race\", choices=unique_values.get(\"Race\", [])),\n",
        "            ui.input_select(\"ethnicity\", \"Ethnicity\", choices=unique_values.get(\"Ethnicity\", []))\n",
        "            ),\n",
        "\n",
        "        ui.column(3,\n",
        "            ui.h3(\"Hospital & Admission Details\"),\n",
        "            ui.input_select(\"facility\", \"Hospital Facility\", choices=list(facility_mapping.values())),\n",
        "            ui.input_select(\"hospital_county\", \"Hospital County\", choices=unique_values.get(\"Hospital County\", [])),\n",
        "            ui.input_select(\"zip_code\", \"Zip Code (3 digits)\", choices=unique_values.get(\"Zip Code - 3 digits\", [])),\n",
        "            ui.input_select(\"admission_type\", \"Type of Admission\", choices=unique_values.get(\"Type of Admission\", [])),\n",
        "            ui.input_select(\"emergency_dept\", \"Emergency Department Indicator\", choices={\"Y\": \"Yes\", \"N\": \"No\"}),\n",
        "            ui.input_numeric(\"length_of_stay\", \"Length of Stay (days)\", value=3, min=1, max=120),\n",
        "            ui.p(\"Note: For stays longer than 120 days, enter 121\", style=\"color:gray;font-size:small;\"),\n",
        "            ui.input_select(\"disposition\", \"Patient Disposition\", choices=unique_values.get(\"Patient Disposition\", []))\n",
        "            ),\n",
        "\n",
        "          ui.column(3,\n",
        "            ui.h3(\"Medical Condition\"),\n",
        "            ui.input_select(\"mdc_code\", \"Medical Diagnosis Category\", choices=list(illness_mapping.values())),\n",
        "            ui.input_select(\"medical_surgical\", \"Medical or Surgical\", choices=unique_values.get(\"APR Medical Surgical Description\", [])),\n",
        "            ui.input_select(\"severity\", \"Severity of Illness\", choices=list(risk_severity_mapping.keys())),\n",
        "            ui.input_select(\"risk_mortality\", \"Risk of Mortality\", choices=list(risk_severity_mapping.keys()))\n",
        "            ),\n",
        "\n",
        "          ui.column(3,\n",
        "            ui.h3(\"Payment Information\"),\n",
        "            ui.input_select(\"payment_1\", \"Payment Type 1\", choices=unique_values.get(\"Payment Typology 1\", [])),\n",
        "            ui.input_select(\"payment_2\", \"Payment Type 2\", choices=unique_values.get(\"Payment Typology 2\", [])),\n",
        "            ui.input_action_button(\"predict\", \"Predict Cost\", class_=\"btn-primary\")\n",
        "            ),\n",
        "\n",
        "        ui.row(\n",
        "          ui.column(12,\n",
        "              ui.h2(\"Predicted Healthcare Costs\"),\n",
        "              ui.output_text_verbatim(\"prediction_result\"),\n",
        "                                style=\"background-color:#f8f9fa; padding:20px; font-size:24px; font-weight:bold; text-align:center; border-radius:10px; border: 2px solid #007bff;\")\n",
        "              )\n",
        "        )\n",
        ")"
      ],
      "metadata": {
        "id": "IfHSlVE9mQvW"
      },
      "execution_count": 11,
      "outputs": []
    },
    {
      "cell_type": "markdown",
      "source": [
        "Define Server"
      ],
      "metadata": {
        "id": "xIuJ_Fq6AmiD"
      }
    },
    {
      "cell_type": "code",
      "source": [
        "def server(input, output, session):\n",
        "\n",
        "    @reactive.Calc\n",
        "    def process_input_data():\n",
        "        # Create a single row dataframe with user inputs\n",
        "        input_data = pd.DataFrame({\n",
        "            \"Age Group\": [input.age_group()],\n",
        "            \"Gender\": [input.gender()],\n",
        "            \"Race\": [input.race()],\n",
        "            \"Ethnicity\": [input.ethnicity()],\n",
        "            \"Hospital County\": [input.hospital_county()],\n",
        "            \"Permanent Facility Id\": [input.facility()],  # Get ID from name\n",
        "            \"Zip Code - 3 digits\": [input.zip_code()],\n",
        "            \"Type of Admission\": [input.admission_type()],\n",
        "            \"Patient Disposition\": [input.disposition()],\n",
        "            \"Length of Stay\": [input.length_of_stay()],\n",
        "            \"APR MDC Code\": [input.mdc_code()],\n",
        "            \"APR Medical Surgical Description\": [input.medical_surgical()],\n",
        "            \"APR Severity of Illness Description\": [input.severity()],\n",
        "            \"APR Risk of Mortality\": [input.risk_mortality()],\n",
        "            \"Payment Typology 1\": [input.payment_1()],\n",
        "            \"Payment Typology 2\": [input.payment_2()],\n",
        "            \"Emergency Department Indicator\": [input.emergency_dept()]\n",
        "        })\n",
        "\n",
        "        # Print the input data for debugging\n",
        "        print(\"Input data:\")\n",
        "        print(input_data)\n",
        "\n",
        "        return input_data\n",
        "\n",
        "    @reactive.Calc\n",
        "    def preprocess_data():\n",
        "        try:\n",
        "            # Get input data\n",
        "            input_df = process_input_data()\n",
        "\n",
        "            # Create ordinal features dataframe\n",
        "            ordinal_df = pd.DataFrame()\n",
        "            ordinal_df['Age Group'] = input_df['Age Group'].map(age_mapping)\n",
        "            ordinal_df[\"Length of Stay\"] = input_df[\"Length of Stay\"]\n",
        "            ordinal_df['Severity of Illness'] = input_df['APR Severity of Illness Description'].map(risk_severity_mapping)\n",
        "            ordinal_df['Risk of Mortality'] = input_df['APR Risk of Mortality'].map(risk_severity_mapping)\n",
        "            # Set Total Charges to 0 since it's the target\n",
        "            ordinal_df[\"Total Charges\"] = 0\n",
        "\n",
        "            # Scale ordinal features\n",
        "            scaled_ordinal = scaler.transform(ordinal_df)\n",
        "            scaled_ordinal_df = pd.DataFrame(scaled_ordinal, columns=ordinal_df.columns)\n",
        "\n",
        "            # Convert to string to match the encoder's expectations\n",
        "            for col in cols_to_encode:\n",
        "                input_df[col] = input_df[col].astype(str)\n",
        "\n",
        "            # Handle unknown categories\n",
        "            # For all facilities not in the training data, use a default value\n",
        "            for i, col in enumerate(cols_to_encode):\n",
        "                # Get all known categories for this column from the encoder\n",
        "                known_categories = set(encoder.categories_[i])\n",
        "                if not input_df[col].iloc[0] in known_categories:\n",
        "                    print(f\"Unknown category {input_df[col].iloc[0]} in column {col}. Using default value.\")\n",
        "                    # Use the most common category from training data for this column\n",
        "                    default_value = encoder.categories_[i][0]\n",
        "                    input_df[col] = default_value\n",
        "\n",
        "            # Create sparse matrix for Emergency Department Indicator\n",
        "            emergency_indicator = 1 if input_df[\"Emergency Department Indicator\"].iloc[0] == \"Y\" else 0\n",
        "            sparse_emergency_indicator = csr_matrix([emergency_indicator]).T\n",
        "\n",
        "            # One-hot encode categorical features\n",
        "            sparse_encoded_features = encoder.transform(input_df[cols_to_encode])\n",
        "\n",
        "            # Combine sparse matrices\n",
        "            one_hot_sparse_df = hstack([sparse_emergency_indicator, sparse_encoded_features])\n",
        "            one_hot_sparse_df = one_hot_sparse_df.tocsr()\n",
        "\n",
        "            # Apply SVD transformation\n",
        "            transformed_one_hot = svd.transform(one_hot_sparse_df)\n",
        "\n",
        "            # Convert to DataFrame\n",
        "            transformed_one_hot_df = pd.DataFrame(\n",
        "                transformed_one_hot,\n",
        "                columns=[f'SVD_Component_{i+1}' for i in range(transformed_one_hot.shape[1])]\n",
        "            )\n",
        "\n",
        "            # Combine all features\n",
        "            final_df = pd.concat([scaled_ordinal_df.drop(\"Total Charges\", axis=1), transformed_one_hot_df], axis=1)\n",
        "\n",
        "            return final_df\n",
        "        except Exception as e:\n",
        "            print(f\"Error in preprocessing: {e}\")\n",
        "            raise e\n",
        "\n",
        "    @reactive.Effect\n",
        "    @reactive.event(input.predict)\n",
        "    def predict_cost():\n",
        "        # Only run when the predict button is clicked\n",
        "        pass\n",
        "\n",
        "    @output\n",
        "    @render.text\n",
        "    @reactive.event(input.predict)\n",
        "    def prediction_result():\n",
        "        try:\n",
        "            # Preprocess the data\n",
        "            processed_data = preprocess_data()\n",
        "\n",
        "            # Create DMatrix for GPU prediction\n",
        "            dtest = xgb.DMatrix(processed_data)\n",
        "\n",
        "            # Make prediction with GPU\n",
        "            if hasattr(xgb_model, 'predict'):\n",
        "                scaled_prediction = float(xgb_model.predict(dtest, output_margin=False)[0])\n",
        "            else:\n",
        "                scaled_prediction = float(booster.predict(dtest)[0])\n",
        "\n",
        "            # Unscale the prediction to get the actual dollar amount\n",
        "            # The StandardScaler formula is: z = (x - mean) / std\n",
        "            # So to reverse: x = z * std + mean\n",
        "            unscaled_prediction = scaled_prediction * total_charges_scale + total_charges_mean\n",
        "\n",
        "            # Print debug info\n",
        "            print(f\"Raw prediction from model: {scaled_prediction}\")\n",
        "            print(f\"Unscaled prediction: {unscaled_prediction}\")\n",
        "\n",
        "            # Format prediction for display\n",
        "            result = f\"Predicted Cost: ${unscaled_prediction:,.2f}\"\n",
        "            print(f\"Prediction successful: {result}\")\n",
        "            return result\n",
        "        except Exception as e:\n",
        "            error_message = f\"Error during prediction: {str(e)}\"\n",
        "            print(error_message)\n",
        "            return error_message"
      ],
      "metadata": {
        "id": "lNabbY4Cmam_"
      },
      "execution_count": 12,
      "outputs": []
    },
    {
      "cell_type": "markdown",
      "source": [
        "Run App"
      ],
      "metadata": {
        "id": "1ttruaeDAtUD"
      }
    },
    {
      "cell_type": "code",
      "source": [
        "!curl -s https://loca.lt/mytunnelpassword"
      ],
      "metadata": {
        "colab": {
          "base_uri": "https://localhost:8080/"
        },
        "id": "FhlpD0MhL12G",
        "outputId": "b263d03e-6558-4029-9ce7-d65b1e7d9e83"
      },
      "execution_count": 13,
      "outputs": [
        {
          "output_type": "stream",
          "name": "stdout",
          "text": [
            "35.225.156.6"
          ]
        }
      ]
    },
    {
      "cell_type": "code",
      "source": [
        "# Create and run the app\n",
        "app = App(app_ui, server)\n",
        "\n",
        "from threading import Thread\n",
        "import socket\n",
        "import time\n",
        "import subprocess\n",
        "\n",
        "# Function to find an available port\n",
        "def find_available_port(start_port=8501):\n",
        "    port = start_port\n",
        "    while True:\n",
        "        try:\n",
        "            with socket.socket(socket.AF_INET, socket.SOCK_STREAM) as s:\n",
        "                s.bind(('', port))  # Bind to all interfaces\n",
        "                return port\n",
        "        except OSError:\n",
        "            port += 1\n",
        "            if port > start_port + 100:  # Avoid infinite loop\n",
        "                raise RuntimeError(\"Could not find an available port\")\n",
        "\n",
        "# Find an available port\n",
        "available_port = find_available_port(8501)\n",
        "print(f\"Found available port: {available_port}\")\n",
        "\n",
        "def run_app_in_thread(app, port):\n",
        "    app.run(host=\"0.0.0.0\", port=port)  # Bind to all interfaces\n",
        "\n",
        "# Create a thread for the app\n",
        "app_thread = Thread(target=run_app_in_thread, args=(app, available_port))\n",
        "app_thread.daemon = True\n",
        "app_thread.start()\n",
        "\n",
        "# Give the app a moment to start\n",
        "time.sleep(3)\n",
        "\n",
        "# Install localtunnel\n",
        "!npm install -g localtunnel\n",
        "\n",
        "# Now start localtunnel\n",
        "print(\"Starting localtunnel...\")\n",
        "!lt --port {available_port}"
      ],
      "metadata": {
        "id": "BhMq9OGonix1",
        "colab": {
          "base_uri": "https://localhost:8080/"
        },
        "outputId": "368d3f6e-920c-477b-be89-5b0b1644fc40"
      },
      "execution_count": 14,
      "outputs": [
        {
          "output_type": "stream",
          "name": "stderr",
          "text": [
            "INFO:     Started server process [3341]\n",
            "INFO:     Waiting for application startup.\n",
            "INFO:     Application startup complete.\n",
            "INFO:     Uvicorn running on http://0.0.0.0:8501 (Press CTRL+C to quit)\n"
          ]
        },
        {
          "output_type": "stream",
          "name": "stdout",
          "text": [
            "Found available port: 8501\n",
            "\u001b[1G\u001b[0K⠙\u001b[1G\u001b[0K⠹\u001b[1G\u001b[0K⠸\u001b[1G\u001b[0K⠼\u001b[1G\u001b[0K⠴\u001b[1G\u001b[0K⠦\u001b[1G\u001b[0K⠧\u001b[1G\u001b[0K⠇\u001b[1G\u001b[0K⠏\u001b[1G\u001b[0K⠋\u001b[1G\u001b[0K⠙\u001b[1G\u001b[0K⠹\u001b[1G\u001b[0K⠸\u001b[1G\u001b[0K\n",
            "added 22 packages in 2s\n",
            "\u001b[1G\u001b[0K⠸\u001b[1G\u001b[0K\n",
            "\u001b[1G\u001b[0K⠸\u001b[1G\u001b[0K3 packages are looking for funding\n",
            "\u001b[1G\u001b[0K⠸\u001b[1G\u001b[0K  run `npm fund` for details\n",
            "\u001b[1G\u001b[0K⠸\u001b[1G\u001b[0K\u001b[1mnpm\u001b[22m \u001b[96mnotice\u001b[39m\n",
            "\u001b[1mnpm\u001b[22m \u001b[96mnotice\u001b[39m New \u001b[31mmajor\u001b[39m version of npm available! \u001b[31m10.8.2\u001b[39m -> \u001b[34m11.2.0\u001b[39m\n",
            "\u001b[1mnpm\u001b[22m \u001b[96mnotice\u001b[39m Changelog: \u001b[34mhttps://github.com/npm/cli/releases/tag/v11.2.0\u001b[39m\n",
            "\u001b[1mnpm\u001b[22m \u001b[96mnotice\u001b[39m To update run: \u001b[4mnpm install -g npm@11.2.0\u001b[24m\n",
            "\u001b[1mnpm\u001b[22m \u001b[96mnotice\u001b[39m\n",
            "\u001b[1G\u001b[0K⠸\u001b[1G\u001b[0KStarting localtunnel...\n",
            "your url is: https://loud-pears-deny.loca.lt\n",
            "INFO:     35.224.32.43:0 - \"GET /robots.txt HTTP/1.1\" 404 Not Found\n",
            "INFO:     75.102.217.226:0 - \"GET / HTTP/1.1\" 200 OK\n",
            "INFO:     75.102.217.226:0 - \"GET /lib/requirejs-2.3.6/require.min.js HTTP/1.1\" 200 OK\n",
            "INFO:     75.102.217.226:0 - \"GET /lib/shiny-busy-indicators-1.3.0/busy-indicators.css HTTP/1.1\" 200 OK\n",
            "INFO:     75.102.217.226:0 - \"GET /lib/bootstrap-5.3.1/bootstrap.min.css HTTP/1.1\" 200 OK\n",
            "INFO:     75.102.217.226:0 - \"GET /lib/shiny-1.3.0/shiny.js HTTP/1.1\" 200 OK\n",
            "INFO:     75.102.217.226:0 - \"GET /lib/jquery-3.6.0/jquery-3.6.0.min.js HTTP/1.1\" 200 OK\n",
            "INFO:     75.102.217.226:0 - \"GET /lib/bootstrap-5.3.1/bootstrap.bundle.min.js HTTP/1.1\" 200 OK\n",
            "INFO:     75.102.217.226:0 - \"GET /lib/bslib-components-0.9.0.9000/components.min.js HTTP/1.1\" 200 OK\n",
            "INFO:     75.102.217.226:0 - \"GET /lib/bslib-components-0.9.0.9000/web-components.min.js HTTP/1.1\" 200 OK\n",
            "INFO:     75.102.217.226:0 - \"GET /lib/ionrangeslider-2.3.1/js/ion.rangeSlider.min.js HTTP/1.1\" 200 OK\n",
            "INFO:     75.102.217.226:0 - \"GET /lib/strftime-0.9.2/strftime-min.js HTTP/1.1\" 200 OK\n",
            "INFO:     75.102.217.226:0 - \"GET /lib/bootstrap-datepicker-1.9.0/js/bootstrap-datepicker.min.js HTTP/1.1\" 200 OK\n",
            "INFO:     75.102.217.226:0 - \"GET /lib/selectize-0.12.6/js/selectize.min.js HTTP/1.1\" 200 OK\n",
            "INFO:     75.102.217.226:0 - \"GET /lib/selectize-0.12.6/accessibility/js/selectize-plugin-a11y.min.js HTTP/1.1\" 200 OK\n",
            "INFO:     75.102.217.226:0 - \"GET /lib/bootstrap-5.3.1/font.css HTTP/1.1\" 200 OK\n",
            "INFO:     75.102.217.226:0 - \"GET /lib/bootstrap-5.3.1/fonts/memvYaGs126MiZpBA-UvWbX2vVnXBbObj2OVTS-muw.woff2 HTTP/1.1\" 200 OK\n",
            "INFO:     75.102.217.226:0 - \"GET /lib/bootstrap-5.3.1/fonts/HI_SiYsKILxRpg3hIP6sJ7fM7PqlPevW.woff2 HTTP/1.1\" 200 OK\n",
            "INFO:     75.102.217.226:0 - \"GET /lib/shiny-busy-indicators-1.3.0/spinners/ring.svg HTTP/1.1\" 200 OK\n"
          ]
        },
        {
          "output_type": "stream",
          "name": "stderr",
          "text": [
            "INFO:     ('75.102.217.226', 0) - \"WebSocket /websocket/\" [accepted]\n",
            "INFO:     connection open\n"
          ]
        },
        {
          "output_type": "stream",
          "name": "stdout",
          "text": [
            "INFO:     75.102.217.226:0 - \"GET /favicon.ico HTTP/1.1\" 404 Not Found\n",
            "INFO:     75.102.217.226:0 - \"GET /lib/requirejs-2.3.6/require.min.js HTTP/1.1\" 200 OK\n",
            "INFO:     75.102.217.226:0 - \"GET /lib/shiny-1.3.0/shiny.js HTTP/1.1\" 200 OK\n",
            "INFO:     75.102.217.226:0 - \"GET /lib/bootstrap-5.3.1/bootstrap.bundle.min.js HTTP/1.1\" 200 OK\n",
            "INFO:     75.102.217.226:0 - \"GET /lib/jquery-3.6.0/jquery-3.6.0.min.js HTTP/1.1\" 200 OK\n",
            "INFO:     75.102.217.226:0 - \"GET /lib/bslib-components-0.9.0.9000/components.min.js HTTP/1.1\" 200 OK\n",
            "INFO:     75.102.217.226:0 - \"GET /lib/ionrangeslider-2.3.1/js/ion.rangeSlider.min.js HTTP/1.1\" 200 OK\n",
            "INFO:     75.102.217.226:0 - \"GET /lib/selectize-0.12.6/js/selectize.min.js HTTP/1.1\" 200 OK\n",
            "INFO:     75.102.217.226:0 - \"GET /lib/strftime-0.9.2/strftime-min.js HTTP/1.1\" 200 OK\n",
            "INFO:     75.102.217.226:0 - \"GET /lib/bootstrap-datepicker-1.9.0/js/bootstrap-datepicker.min.js HTTP/1.1\" 200 OK\n",
            "INFO:     75.102.217.226:0 - \"GET /lib/selectize-0.12.6/accessibility/js/selectize-plugin-a11y.min.js HTTP/1.1\" 200 OK\n",
            "INFO:     75.102.217.226:0 - \"GET /lib/bslib-components-0.9.0.9000/web-components.min.js HTTP/1.1\" 200 OK\n",
            "INFO:     75.102.217.226:0 - \"GET /lib/shiny-busy-indicators-1.3.0/busy-indicators.css HTTP/1.1\" 200 OK\n",
            "INFO:     75.102.217.226:0 - \"GET /lib/bootstrap-5.3.1/bootstrap.min.css HTTP/1.1\" 200 OK\n",
            "Input data:\n",
            "  Age Group Gender   Race         Ethnicity Hospital County  \\\n",
            "0   0 to 17      M  White  Spanish/Hispanic     Westchester   \n",
            "\n",
            "              Permanent Facility Id Zip Code - 3 digits Type of Admission  \\\n",
            "0  Montefiore Mount Vernon Hospital                 105         Emergency   \n",
            "\n",
            "    Patient Disposition  Length of Stay  \\\n",
            "0  Skilled Nursing Home               3   \n",
            "\n",
            "                                       APR MDC Code  \\\n",
            "0  Diseases and Disorders of the Circulatory System   \n",
            "\n",
            "  APR Medical Surgical Description APR Severity of Illness Description  \\\n",
            "0                          Medical                               Minor   \n",
            "\n",
            "  APR Risk of Mortality Payment Typology 1 Payment Typology 2  \\\n",
            "0                 Minor           Medicaid           Medicaid   \n",
            "\n",
            "  Emergency Department Indicator  \n",
            "0                              Y  \n",
            "Unknown category Montefiore Mount Vernon Hospital in column Permanent Facility Id. Using default value.\n",
            "Unknown category Diseases and Disorders of the Circulatory System in column APR MDC Code. Using default value.\n",
            "Raw prediction from model: -0.06700216978788376\n",
            "Unscaled prediction: 29735.599521083088\n",
            "Prediction successful: Predicted Cost: $29,735.60\n"
          ]
        },
        {
          "output_type": "stream",
          "name": "stderr",
          "text": [
            "INFO:     connection closed\n"
          ]
        },
        {
          "output_type": "stream",
          "name": "stdout",
          "text": [
            "^C\n"
          ]
        }
      ]
    }
  ]
}